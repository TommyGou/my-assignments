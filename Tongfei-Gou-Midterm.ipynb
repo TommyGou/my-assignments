{
 "cells": [
  {
   "cell_type": "markdown",
   "id": "5826bf80-3996-498e-888c-ccd9404a730b",
   "metadata": {},
   "source": [
    "### Q1"
   ]
  },
  {
   "cell_type": "code",
   "execution_count": 1,
   "id": "80b1b8d7-9533-40d1-9c98-f492237222af",
   "metadata": {},
   "outputs": [
    {
     "name": "stdout",
     "output_type": "stream",
     "text": [
      "Probability this person is male and a smoker: 0.11\n"
     ]
    }
   ],
   "source": [
    "# part（a）\n",
    "# Probability this person is male and a smoker\n",
    "P_S_given_M = 0.22\n",
    "P_M = 0.5\n",
    "P_M_and_S = P_S_given_M * P_M\n",
    "print(\"Probability this person is male and a smoker:\", P_M_and_S)"
   ]
  },
  {
   "cell_type": "code",
   "execution_count": 2,
   "id": "6e3c98ac-4e76-4453-84a5-25ec30912374",
   "metadata": {},
   "outputs": [],
   "source": [
    "# Part(a):choose Option 1 : 0.1100"
   ]
  },
  {
   "cell_type": "code",
   "execution_count": 3,
   "id": "b6336a1c-6ad6-44f1-962a-2b2733554915",
   "metadata": {},
   "outputs": [
    {
     "name": "stdout",
     "output_type": "stream",
     "text": [
      "Probability this person is a woman and not a smoker: 0.4175\n"
     ]
    }
   ],
   "source": [
    "# Part (b)\n",
    "# Probability this person is a woman and not a smoker\n",
    "P_S_given_F = 0.165\n",
    "P_F = 1 - P_M\n",
    "P_F_and_not_S = (1 - P_S_given_F) * P_F\n",
    "print(\"Probability this person is a woman and not a smoker:\",P_F_and_not_S)"
   ]
  },
  {
   "cell_type": "code",
   "execution_count": 4,
   "id": "f44a2c6a-f90b-4ecb-bcc7-e76c9f0e1cff",
   "metadata": {},
   "outputs": [],
   "source": [
    "# Part(b):choose Option 4: 0.4175"
   ]
  },
  {
   "cell_type": "code",
   "execution_count": 5,
   "id": "772839ac-2592-43c9-897d-c7aa3d574577",
   "metadata": {},
   "outputs": [
    {
     "name": "stdout",
     "output_type": "stream",
     "text": [
      "Percentage of smokers who are male: 57.14285714285714\n"
     ]
    }
   ],
   "source": [
    "# Part (c)\n",
    "# Percentage of smokers who are male\n",
    "P_S = 0.1925\n",
    "Percentage_male_smokers = (P_M_and_S / P_S) * 100\n",
    "print(\"Percentage of smokers who are male:\", Percentage_male_smokers)"
   ]
  },
  {
   "cell_type": "code",
   "execution_count": 6,
   "id": "45201cd6-b88a-4c7f-905b-a736c13fe9f8",
   "metadata": {},
   "outputs": [],
   "source": [
    "# Part(c):choose Option 1: 57.14"
   ]
  },
  {
   "cell_type": "code",
   "execution_count": 7,
   "id": "4fec1e23-b63b-483e-acdd-bfec9f8c0169",
   "metadata": {},
   "outputs": [
    {
     "name": "stdout",
     "output_type": "stream",
     "text": [
      "Percentage of smokers who are female: 42.85714285714286\n"
     ]
    }
   ],
   "source": [
    "# Part (d)\n",
    "# Percentage of smokers who are female\n",
    "Percentage_female_smokers = ((P_S_given_F * P_F) / P_S) * 100\n",
    "print(\"Percentage of smokers who are female:\", Percentage_female_smokers)"
   ]
  },
  {
   "cell_type": "code",
   "execution_count": 8,
   "id": "606cbe74-5dee-4ac9-aa4a-41ea6c312d85",
   "metadata": {},
   "outputs": [],
   "source": [
    "# Part(d):choose Option 2: 42.86"
   ]
  },
  {
   "cell_type": "markdown",
   "id": "4f011558-9123-4a33-9d5b-8397f37e8ca7",
   "metadata": {},
   "source": [
    "### Q2"
   ]
  },
  {
   "cell_type": "markdown",
   "id": "000ccdae-903a-4192-997b-74a8ad95b351",
   "metadata": {},
   "source": [
    "#### Part(a)\n",
    "|                      | A        | Ac       | Row Probabilities  |\n",
    "|----------------------|----------|----------|--------------------|\n",
    "| B                    | 0.10     | 0.15     | 0.25               |\n",
    "| Bc                   | 0.06     | 0.69     | 0.75               |\n",
    "| Column Probabilities | 0.16     | 0.84     | 1.00               | \n"
   ]
  },
  {
   "cell_type": "markdown",
   "id": "0dc1d204-ec98-4e7b-88bf-bb5b10a1c2bf",
   "metadata": {},
   "source": [
    "#### Part (b): Find the probability that the person chosen contracts disease A or disease B. \n",
    "##### P(A)=0.16\n",
    "##### P(B)=0.25\n",
    "##### P(not_A_B) = 0.69\n",
    "##### P(A∩B)=P(A)+P(B)-(1-P(not_A_B))=0.16+0.25-(1-0.69)\n",
    "##### P(A∩B)=0.10\n",
    "##### P(A∪B)=P(A)+P(B)−P(A∩B)\n",
    "##### p(A∪B)=0.16+0.25-0.10=0.31\n",
    "##### Therefore, the probability is 0.31."
   ]
  },
  {
   "cell_type": "markdown",
   "id": "8e8ee044-83b7-46e3-8335-f041a406051e",
   "metadata": {},
   "source": [
    "#### Part (c): Find the probability that the person chosen contracts only one of the two diseases. \n",
    "##### P(only one)=P(A∪B)-P(A∩B)=0.31-0.10=0.21\n",
    "##### Therefore, the probability is 0.21."
   ]
  },
  {
   "cell_type": "markdown",
   "id": "1084d2fc-92d1-4515-9d23-0c93d6719bb3",
   "metadata": {},
   "source": [
    "#### Part (d): Suppose a person contracts disease A. What is the chance that this person will contract disease B? \n",
    "##### P(B | A)= P(A∩B)/P(A)=0.10/0.16=0.6250\n",
    "\n",
    "​"
   ]
  },
  {
   "cell_type": "markdown",
   "id": "09519cde-9965-41f5-b93d-dd54d4e76484",
   "metadata": {},
   "source": [
    "#### Part (e): Suppose a person contracts disease B. What is the chance that this person will contract disease A?\n",
    "##### P(A | B)= P(A∩B)/P(B)=0.10/0.25=0.4000\n",
    "\n",
    "​\n",
    " \n",
    "\n"
   ]
  },
  {
   "cell_type": "markdown",
   "id": "820e9aff-cf90-4104-8a96-3a70d0840da9",
   "metadata": {},
   "source": [
    "### Q3"
   ]
  },
  {
   "cell_type": "code",
   "execution_count": 9,
   "id": "5dfc9ea6-d63d-4d5a-9e52-331acfa65d5f",
   "metadata": {},
   "outputs": [],
   "source": [
    "import scipy.stats as stats\n",
    "\n",
    "# Given values\n",
    "mean = 1.89\n",
    "std_dev = 0.05"
   ]
  },
  {
   "cell_type": "code",
   "execution_count": 10,
   "id": "3eb6a8d6-1cb0-4e64-b006-0d020e042cfa",
   "metadata": {},
   "outputs": [
    {
     "data": {
      "text/plain": [
       "0.5403520713886154"
      ]
     },
     "execution_count": 10,
     "metadata": {},
     "output_type": "execute_result"
    }
   ],
   "source": [
    "# (a) Probability between 1.83 and 1.91 litres\n",
    "z_1_83 = (1.83 - mean) / std_dev\n",
    "z_1_91 = (1.91 - mean) / std_dev\n",
    "prob_between_1_83_1_91 = stats.norm.cdf(z_1_91) - stats.norm.cdf(z_1_83)\n",
    "prob_between_1_83_1_91"
   ]
  },
  {
   "cell_type": "code",
   "execution_count": 11,
   "id": "ddf7f8e5-a3a8-4cc5-8aee-e1d004cbbd50",
   "metadata": {},
   "outputs": [
    {
     "data": {
      "text/plain": [
       "1.95407757827723"
      ]
     },
     "execution_count": 11,
     "metadata": {},
     "output_type": "execute_result"
    }
   ],
   "source": [
    "# (b) 90th Percentile\n",
    "z_90 = stats.norm.ppf(0.90)\n",
    "value_at_90th_percentile = mean + z_90 * std_dev\n",
    "value_at_90th_percentile"
   ]
  },
  {
   "cell_type": "code",
   "execution_count": 12,
   "id": "e88a8851-9d31-4388-8621-88c1a498529c",
   "metadata": {},
   "outputs": [],
   "source": [
    "# (b) interpret is meaning\n",
    "# The value obtained is 1.954. Bottles lower than this value account for 90% of the total."
   ]
  },
  {
   "cell_type": "code",
   "execution_count": 13,
   "id": "195f6870-b8cd-481a-99a3-bbd1bfe71111",
   "metadata": {},
   "outputs": [
    {
     "data": {
      "text/plain": [
       "0.01390344751349848"
      ]
     },
     "execution_count": 13,
     "metadata": {},
     "output_type": "execute_result"
    }
   ],
   "source": [
    "# (c) Proportion filled to overflow\n",
    "z_overflow = (2 - mean) / std_dev\n",
    "prob_overflow = 1 - stats.norm.cdf(z_overflow)\n",
    "prob_overflow"
   ]
  },
  {
   "cell_type": "code",
   "execution_count": 14,
   "id": "83d94bc2-c07d-45a2-9b11-ed7afef8deb2",
   "metadata": {},
   "outputs": [
    {
     "data": {
      "text/plain": [
       "0.4892488979854359"
      ]
     },
     "execution_count": 14,
     "metadata": {},
     "output_type": "execute_result"
    }
   ],
   "source": [
    "# (d) Probability of 5 to 10 bottles with less than 1.85 litres\n",
    "p_less_than_1_85 = stats.norm.cdf((1.85 - mean) / std_dev)\n",
    "prob_5_to_10_less_than_1_85 = sum(stats.binom.pmf(range(5, 11), 50, p_less_than_1_85))\n",
    "prob_5_to_10_less_than_1_85"
   ]
  },
  {
   "cell_type": "markdown",
   "id": "534ebeda-b574-455d-90be-c9164eae5200",
   "metadata": {},
   "source": [
    "### Q4"
   ]
  },
  {
   "cell_type": "markdown",
   "id": "cd2e510b-f56c-44d1-89ba-91c8a7eac8c4",
   "metadata": {},
   "source": [
    "#### part(a)\n",
    "##### P(AA) = 0.15\n",
    "##### P(D) = 3*P(UA)\n",
    "##### P(AA)+P(D)+P(UA)=1,0.15+4P(UA)=1\n",
    "##### P(UA)=0.2125\n",
    "##### P(D)=0.6375\n",
    "##### P(part_a)=P(UA)*0.3=0.2125*0.3=0.06375\n"
   ]
  },
  {
   "cell_type": "markdown",
   "id": "6dc3c6c2-0e6a-4e8d-8207-1ca8a4b7bedd",
   "metadata": {},
   "source": [
    "#### part(b)\n",
    "##### P(part_b)=P(AA)*(1-0.15)/P(AA)*(1-0.15)+P(D)*(1-0.1)+P(UA)*(1-0.3)=0.15\n"
   ]
  },
  {
   "cell_type": "markdown",
   "id": "6397e373-7ab7-4527-88f8-2657cf72aabf",
   "metadata": {},
   "source": [
    "### Q5"
   ]
  },
  {
   "cell_type": "code",
   "execution_count": 15,
   "id": "de419cf8-ca87-4c82-aebc-310570c8b1b6",
   "metadata": {},
   "outputs": [
    {
     "data": {
      "text/plain": [
       "(1.0, 0.0, 0.0)"
      ]
     },
     "execution_count": 15,
     "metadata": {},
     "output_type": "execute_result"
    }
   ],
   "source": [
    "# Given data\n",
    "P_C0 = 0.20  # Probability of low-risk\n",
    "P_C1 = 0.30  # Probability of medium-risk\n",
    "P_C2 = 0.50  # Probability of high-risk\n",
    "\n",
    "# Uniform distribution parameters\n",
    "a_C0, b_C0 = 35, 60\n",
    "a_C1, b_C1 = 15, 45\n",
    "a_C2, b_C2 = 0, 20\n",
    "\n",
    "# Observed savings amount\n",
    "X = 48  # in thousand dollars\n",
    "\n",
    "# Calculate likelihoods (pdf values)\n",
    "likelihood_C0 = 1 / (b_C0 - a_C0) if a_C0 <= X <= b_C0 else 0\n",
    "likelihood_C1 = 1 / (b_C1 - a_C1) if a_C1 <= X <= b_C1 else 0\n",
    "likelihood_C2 = 1 / (b_C2 - a_C2) if a_C2 <= X <= b_C2 else 0\n",
    "\n",
    "# Calculate evidence (marginal likelihood)\n",
    "P_X = (P_C0 * likelihood_C0) + (P_C1 * likelihood_C1) + (P_C2 * likelihood_C2)\n",
    "\n",
    "# Calculate posterior probabilities\n",
    "posterior_C0 = (P_C0 * likelihood_C0) / P_X\n",
    "posterior_C1 = (P_C1 * likelihood_C1) / P_X\n",
    "posterior_C2 = (P_C2 * likelihood_C2) / P_X\n",
    "\n",
    "posterior_C0, posterior_C1, posterior_C2\n"
   ]
  },
  {
   "cell_type": "markdown",
   "id": "68a030ca-0c5c-4505-876b-b32daa52495c",
   "metadata": {},
   "source": [
    "### Q6"
   ]
  },
  {
   "cell_type": "code",
   "execution_count": 16,
   "id": "40c750fd-62d9-4cd6-8ad2-cc6c5ebc599f",
   "metadata": {},
   "outputs": [
    {
     "data": {
      "text/plain": [
       "1.3888888888888884"
      ]
     },
     "execution_count": 16,
     "metadata": {},
     "output_type": "execute_result"
    }
   ],
   "source": [
    "# Given data\n",
    "total_samples = 5\n",
    "total_no_samples = 3\n",
    "\n",
    "# Prior probability of Label being No\n",
    "P_No = total_no_samples / total_samples\n",
    "\n",
    "# Conditional probabilities\n",
    "P_A_1_given_No = 2 / total_no_samples  # Probability of observing A=1 given that Label is No\n",
    "P_B_0_given_No = 1 / total_no_samples  # Probability of observing B=0 given that Label is No\n",
    "P_C_0_given_No = 1 / total_no_samples  # Probability of observing C=0 given that Label is No\n",
    "\n",
    "# Calculate the numerator\n",
    "numerator = P_A_1_given_No * P_B_0_given_No * P_C_0_given_No * P_No\n",
    "\n",
    "# Calculate the evidence (marginal likelihood)\n",
    "evidence = (2 / total_samples) * (1 / total_samples) * (2 / total_samples)\n",
    "\n",
    "# Calculate the posterior probability\n",
    "P_No_given_A_1_B_0_C_0 = numerator / evidence\n",
    "\n",
    "P_No_given_A_1_B_0_C_0\n"
   ]
  },
  {
   "cell_type": "code",
   "execution_count": null,
   "id": "37a0714a-0009-450b-b848-eb3d5e7db2c1",
   "metadata": {},
   "outputs": [],
   "source": []
  }
 ],
 "metadata": {
  "kernelspec": {
   "display_name": "Python 3 (ipykernel)",
   "language": "python",
   "name": "python3"
  },
  "language_info": {
   "codemirror_mode": {
    "name": "ipython",
    "version": 3
   },
   "file_extension": ".py",
   "mimetype": "text/x-python",
   "name": "python",
   "nbconvert_exporter": "python",
   "pygments_lexer": "ipython3",
   "version": "3.11.5"
  }
 },
 "nbformat": 4,
 "nbformat_minor": 5
}
