{
 "cells": [
  {
   "cell_type": "markdown",
   "id": "5103038d-9d07-4260-a234-7df997d19b09",
   "metadata": {},
   "source": [
    "### Q1"
   ]
  },
  {
   "cell_type": "markdown",
   "id": "eb79a94c-e7ab-4d0f-8f99-4171f3357f03",
   "metadata": {},
   "source": [
    "### Part（a）：\n",
    "Null Hypothesis (H0): The mean mercury level in walleye fish harvested from the Athabasca River downstream of Whitecourt is equal to or less than 1 ppm (Health Canada's action level).\n",
    "\n",
    "H0:μ≤1\n",
    "\n",
    "Alternative Hypothesis (H1): The mean mercury level in walleye fish harvested from the Athabasca River downstream of Whitecourt exceeds 1 ppm.\n",
    "\n",
    "H1:μ>1"
   ]
  },
  {
   "cell_type": "markdown",
   "id": "f6a09779-6618-42c3-92a8-2f12b4e31537",
   "metadata": {},
   "source": [
    "### Part（b）：\n"
   ]
  },
  {
   "cell_type": "code",
   "execution_count": 1,
   "id": "2f5b5536-1585-44fd-a614-293cdacd32a2",
   "metadata": {},
   "outputs": [
    {
     "name": "stdout",
     "output_type": "stream",
     "text": [
      "Sample Mean: 1.052\n",
      "Sample Standard Deviation: 0.081\n",
      "T-statistic: 3.542\n",
      "P-value: 0.0007\n",
      "Reject the null hypothesis: Mean mercury levels exceed Health Canada's action level.\n"
     ]
    }
   ],
   "source": [
    "from scipy import stats\n",
    "import numpy as np\n",
    "\n",
    "# Given data\n",
    "mercury_levels = np.array([1.2, 1.1, 1.0, 1.0, 1.1, 1.0, 1.0, 1.0, 0.9, 1.1, 1.1, 1.2, 1.0, 1.1, 1.0, 1.1, 1.0, 0.9, 1.0, 1.0, 1.1, 1.0, 1.0, 1.1, 1.2, 1.0, 1.1, 1.0, 1.0, 1.2, 1.1])\n",
    "\n",
    "# Sample statistics\n",
    "sample_mean = np.mean(mercury_levels)\n",
    "sample_std = np.std(mercury_levels, ddof=1)\n",
    "n = len(mercury_levels)\n",
    "\n",
    "# Conduct one-sample t-test\n",
    "t_stat, p_value = stats.ttest_1samp(mercury_levels, 1, alternative='greater')\n",
    "\n",
    "# Output results\n",
    "print(f\"Sample Mean: {sample_mean:.3f}\")\n",
    "print(f\"Sample Standard Deviation: {sample_std:.3f}\")\n",
    "print(f\"T-statistic: {t_stat:.3f}\")\n",
    "print(f\"P-value: {p_value:.4f}\")\n",
    "\n",
    "# Check if the p-value is less than the significance level\n",
    "if p_value < 0.05:\n",
    "    print(\"Reject the null hypothesis: Mean mercury levels exceed Health Canada's action level.\")\n",
    "else:\n",
    "    print(\"Fail to reject the null hypothesis: No significant evidence to suggest mean mercury levels exceed 1 ppm.\")\n"
   ]
  },
  {
   "cell_type": "markdown",
   "id": "b967b654-56f4-41c1-9a0e-a427da5e3e1a",
   "metadata": {},
   "source": [
    "### Part (c): Type I Error and Type II Error.\n",
    "Type I Error: Rejecting the null hypothesis when it is actually true. In this context, it would mean concluding that the mean mercury level is greater than 1 ppm when, in reality, it is not.\n",
    "\n",
    "Type II Error: Failing to reject the null hypothesis when it is actually false. In this context, it would mean not identifying that the mean mercury level is greater than 1 ppm when it actually is.\n",
    "\n"
   ]
  },
  {
   "cell_type": "markdown",
   "id": "269cd3b0-ba05-45f2-ab61-c90f4937fc15",
   "metadata": {},
   "source": [
    "### Part (d): Suggestion for a moratorium.\n",
    "Tests showed average mercury levels were significantly higher than 1 ppm, suggesting Health Canada should consider a moratorium on commercial walleye fishing.\n",
    "\n"
   ]
  },
  {
   "cell_type": "markdown",
   "id": "db06182f-f9ab-4d8f-ab73-99b6ad61dffc",
   "metadata": {},
   "source": [
    "### Part (e): Interpretation of the p-value.\n",
    "The p-value represents the probability of observing the data (or more extreme) under the assumption that the null hypothesis is true. A small p-value (typically less than the significance level, e.g., 0.05) suggests that there is enough evidence to reject the null hypothesis.\n"
   ]
  },
  {
   "cell_type": "markdown",
   "id": "2e99cf43-e411-4247-8596-f73c3acefd66",
   "metadata": {},
   "source": [
    "### Part (f): Confidence interval if rejecting the null hypothesis.\n",
    "\n"
   ]
  },
  {
   "cell_type": "code",
   "execution_count": 2,
   "id": "7f6dde7b-5880-4e5b-a2ac-3c3f7db66c8a",
   "metadata": {},
   "outputs": [
    {
     "name": "stdout",
     "output_type": "stream",
     "text": [
      "95% Confidence Interval: (1.0218574157196536, 1.0813683907319596)\n"
     ]
    }
   ],
   "source": [
    "# Calculate 95% confidence interval\n",
    "confidence_interval = stats.t.interval(0.95, df=n-1, loc=sample_mean, scale=sample_std/np.sqrt(n))\n",
    "\n",
    "# Output the confidence interval\n",
    "print(f\"95% Confidence Interval: {confidence_interval}\")\n"
   ]
  },
  {
   "cell_type": "markdown",
   "id": "298e3dd7-b016-49b2-af7b-cdb85a3174f7",
   "metadata": {},
   "source": [
    "### Q2:\n",
    "Use the Gradient Descent algorithm to find the x1 and x2 values that minimize the function: f (x) = 6x12 −3x1x2 +2x22.\n",
    "Choose the starting point as (x1, x2) = (2,3) and use the α as 0.1 and ε as 0.0001.\n",
    "Note 1: If you are using python, continue the iterations until you achieve convergence. Report the values (x1, x2) after performing Gradient Descent each time.\n",
    "Note 2: If you are solving manually and you achieve the convergence in less than 5 iterations, it is fine, otherwise, stop once you are done 5 iterations and report the values (x1, x2) after performing Gradient Descent each time."
   ]
  },
  {
   "cell_type": "markdown",
   "id": "b055f798-5279-4a89-90e4-f91082f7f096",
   "metadata": {},
   "source": [
    "##  Let's use Python to implement the Gradient Descent algorithm to minimize the function \n",
    "\n",
    "f(x,y)=6x1^2\n",
    " −3x1x2+2x2^2\n",
    " . We'll start from the initial point \n",
    "\n",
    "(x1,x2)=(2,3) and use the learning rate =0.1\n",
    "α=0.1 and convergence criteria =0.0001\n",
    "ε=0.0001."
   ]
  },
  {
   "cell_type": "code",
   "execution_count": 3,
   "id": "e2a33ce5-4945-49e2-aff1-42463cd04ad5",
   "metadata": {},
   "outputs": [
    {
     "name": "stdout",
     "output_type": "stream",
     "text": [
      "Iteration 1: (x1, x2) = (0.5000, 2.4000)\n",
      "Iteration 2: (x1, x2) = (0.6200, 1.5900)\n",
      "Iteration 3: (x1, x2) = (0.3530, 1.1400)\n",
      "Iteration 4: (x1, x2) = (0.2714, 0.7899)\n",
      "Iteration 5: (x1, x2) = (0.1827, 0.5554)\n",
      "Iteration 6: (x1, x2) = (0.1301, 0.3880)\n",
      "Iteration 7: (x1, x2) = (0.0904, 0.2718)\n",
      "Iteration 8: (x1, x2) = (0.0635, 0.1902)\n",
      "Iteration 9: (x1, x2) = (0.0444, 0.1332)\n",
      "Iteration 10: (x1, x2) = (0.0311, 0.0932)\n",
      "Iteration 11: (x1, x2) = (0.0217, 0.0653)\n",
      "Iteration 12: (x1, x2) = (0.0152, 0.0457)\n",
      "Iteration 13: (x1, x2) = (0.0107, 0.0320)\n",
      "Iteration 14: (x1, x2) = (0.0075, 0.0224)\n",
      "Iteration 15: (x1, x2) = (0.0052, 0.0157)\n",
      "Iteration 16: (x1, x2) = (0.0037, 0.0110)\n",
      "Iteration 17: (x1, x2) = (0.0026, 0.0077)\n",
      "Iteration 18: (x1, x2) = (0.0018, 0.0054)\n",
      "Iteration 19: (x1, x2) = (0.0013, 0.0038)\n",
      "Iteration 20: (x1, x2) = (0.0009, 0.0026)\n",
      "Iteration 21: (x1, x2) = (0.0006, 0.0018)\n",
      "Iteration 22: (x1, x2) = (0.0004, 0.0013)\n",
      "Iteration 23: (x1, x2) = (0.0003, 0.0009)\n",
      "Iteration 24: (x1, x2) = (0.0002, 0.0006)\n",
      "Iteration 25: (x1, x2) = (0.0001, 0.0004)\n",
      "Iteration 26: (x1, x2) = (0.0001, 0.0003)\n",
      "Iteration 27: (x1, x2) = (0.0001, 0.0002)\n",
      "Iteration 28: (x1, x2) = (0.0001, 0.0002)\n",
      "Iteration 29: (x1, x2) = (0.0000, 0.0001)\n",
      "Iteration 30: (x1, x2) = (0.0000, 0.0001)\n",
      "Iteration 31: (x1, x2) = (0.0000, 0.0001)\n",
      "Iteration 32: (x1, x2) = (0.0000, 0.0000)\n",
      "Iteration 33: (x1, x2) = (0.0000, 0.0000)\n",
      "\n",
      "After 1000 iterations, the final values are: (x1, x2) = (0.0000, 0.0000)\n"
     ]
    }
   ],
   "source": [
    "import numpy as np\n",
    "\n",
    "# Gradient Descent Function\n",
    "def gradient_descent(x1, x2, alpha, epsilon, max_iterations):\n",
    "    iterations = 0\n",
    "    \n",
    "    while iterations < max_iterations:\n",
    "        # Compute partial derivatives\n",
    "        df_dx1 = 12*x1 - 3*x2\n",
    "        df_dx2 = -3*x1 + 4*x2\n",
    "        \n",
    "        # Update x and y\n",
    "        x1 = x1 - alpha * df_dx1\n",
    "        x2 = x2 - alpha * df_dx2\n",
    "        \n",
    "        # Compute the magnitude of the gradient\n",
    "        gradient_magnitude = np.sqrt(df_dx1**2 + df_dx2**2)\n",
    "        \n",
    "        # Check for convergence\n",
    "        if gradient_magnitude < epsilon:\n",
    "            break\n",
    "        \n",
    "        # Print current values after each iteration\n",
    "        print(f\"Iteration {iterations + 1}: (x1, x2) = ({x1:.4f}, {x2:.4f})\")\n",
    "        \n",
    "        iterations += 1\n",
    "    \n",
    "    return x1, x2\n",
    "\n",
    "# Initial values\n",
    "x1_initial, x2_initial = 2, 3\n",
    "alpha = 0.1\n",
    "epsilon = 0.0001\n",
    "max_iterations = 1000  # Adjust the maximum number of iterations as needed\n",
    "\n",
    "# Run Gradient Descent\n",
    "final_x1, final_x2 = gradient_descent(x1_initial, x2_initial, alpha, epsilon, max_iterations)\n",
    "\n",
    "# Print final values\n",
    "print(f\"\\nAfter {max_iterations} iterations, the final values are: (x1, x2) = ({final_x1:.4f}, {final_x2:.4f})\")\n"
   ]
  },
  {
   "cell_type": "markdown",
   "id": "e3790b87-9394-4ce5-9aeb-01f0c87c36fb",
   "metadata": {},
   "source": [
    "### Q3"
   ]
  },
  {
   "cell_type": "code",
   "execution_count": 4,
   "id": "6a602390-92b5-4988-8519-e3e82ffb3d87",
   "metadata": {},
   "outputs": [
    {
     "name": "stdout",
     "output_type": "stream",
     "text": [
      "AI = IA = A is True\n"
     ]
    }
   ],
   "source": [
    "import numpy as np\n",
    "\n",
    "# define matrix A\n",
    "A = np.array([[-1, 4, 2], [2, -3, 1], [0, 1, 3]])\n",
    "\n",
    "# Define the identity matrix I\n",
    "I = np.identity(3)\n",
    "\n",
    "# calculate AI\n",
    "AI = np.dot(A, I)\n",
    "\n",
    "# calculate IA\n",
    "IA = np.dot(I, A)\n",
    "\n",
    "# Prove whether the equation holds\n",
    "if np.array_equal(AI, IA) and np.array_equal(AI, A):\n",
    "    print(\"AI = IA = A is True\")\n",
    "else:\n",
    "    print(\"AI = IA = A is False\")\n"
   ]
  },
  {
   "cell_type": "markdown",
   "id": "4e56ee10-3873-4be8-9494-ffbab7e7aead",
   "metadata": {},
   "source": [
    "### Q4"
   ]
  },
  {
   "cell_type": "code",
   "execution_count": 5,
   "id": "ee8aa5b9-eb5d-499f-a7d9-5fb04775bcd2",
   "metadata": {},
   "outputs": [
    {
     "name": "stdout",
     "output_type": "stream",
     "text": [
      "Eigenvalues:\n",
      "[2.+2.23606798j 2.-2.23606798j]\n",
      "\n",
      "Eigenvectors:\n",
      "[[0.91287093+0.j         0.91287093-0.j        ]\n",
      " [0.        +0.40824829j 0.        -0.40824829j]]\n"
     ]
    }
   ],
   "source": [
    "\n",
    "import numpy as np\n",
    "\n",
    "# Define matrix A\n",
    "A = np.array([[2, 5], [-1, 2]])\n",
    "\n",
    "# Calculate eigenvalues and eigenvectors\n",
    "eigenvalues, eigenvectors = np.linalg.eig(A)\n",
    "\n",
    "# Print the results\n",
    "print(\"Eigenvalues:\")\n",
    "print(eigenvalues)\n",
    "\n",
    "print(\"\\nEigenvectors:\")\n",
    "print(eigenvectors)\n"
   ]
  },
  {
   "cell_type": "code",
   "execution_count": null,
   "id": "61dc6254-ef73-4551-a960-df9f84550e9c",
   "metadata": {},
   "outputs": [],
   "source": []
  }
 ],
 "metadata": {
  "kernelspec": {
   "display_name": "Python 3 (ipykernel)",
   "language": "python",
   "name": "python3"
  },
  "language_info": {
   "codemirror_mode": {
    "name": "ipython",
    "version": 3
   },
   "file_extension": ".py",
   "mimetype": "text/x-python",
   "name": "python",
   "nbconvert_exporter": "python",
   "pygments_lexer": "ipython3",
   "version": "3.11.5"
  }
 },
 "nbformat": 4,
 "nbformat_minor": 5
}
